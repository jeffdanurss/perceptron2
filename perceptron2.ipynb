{
  "nbformat": 4,
  "nbformat_minor": 0,
  "metadata": {
    "colab": {
      "provenance": [],
      "authorship_tag": "ABX9TyOo6skITADO9mKlr0rjMMfz",
      "include_colab_link": true
    },
    "kernelspec": {
      "name": "python3",
      "display_name": "Python 3"
    },
    "language_info": {
      "name": "python"
    }
  },
  "cells": [
    {
      "cell_type": "markdown",
      "metadata": {
        "id": "view-in-github",
        "colab_type": "text"
      },
      "source": [
        "<a href=\"https://colab.research.google.com/github/jeffdanurss/perceptron2/blob/main/perceptron2.ipynb\" target=\"_parent\"><img src=\"https://colab.research.google.com/assets/colab-badge.svg\" alt=\"Open In Colab\"/></a>"
      ]
    },
    {
      "cell_type": "code",
      "execution_count": null,
      "metadata": {
        "id": "ahii93NCjlJm"
      },
      "outputs": [],
      "source": []
    },
    {
      "cell_type": "markdown",
      "source": [
        "\n",
        "# Code from Chapter 3 of Machine Learning: An Algorithmic Perspective (2nd Edition)\n",
        "# by Stephen Marsland (http://stephenmonika.net)\n",
        "\n",
        "# You are free to use, change, or redistribute the code in any way you wish for\n",
        "# non-commercial purposes, but please maintain the name of the original author.\n",
        "# This code comes with no warranty of any kind.\n",
        "\n",
        "# Stephen Marsland, 2008, 2014\n"
      ],
      "metadata": {
        "id": "LBROMHUkkPQc"
      }
    },
    {
      "cell_type": "code",
      "source": [
        "import numpy as np\n",
        "\n",
        "class pcn:\n",
        "    \"\"\" A basic Perceptron \"\"\"\n",
        "\n",
        "    def __init__(self, inputs, targets):\n",
        "        \"\"\" Constructor \"\"\"\n",
        "        # Set up network size\n",
        "        if np.ndim(inputs) > 1:\n",
        "            self.nIn = np.shape(inputs)[1]\n",
        "        else:\n",
        "            self.nIn = 1\n",
        "\n",
        "        if np.ndim(targets) > 1:\n",
        "            self.nOut = np.shape(targets)[1]\n",
        "        else:\n",
        "            self.nOut = 1\n",
        "\n",
        "        self.nData = np.shape(inputs)[0]\n",
        "\n",
        "        # Initialise network\n",
        "        self.weights = np.random.rand(self.nIn+1, self.nOut) * 0.1 - 0.05\n",
        "\n",
        "    def pcntrain(self, inputs, targets, eta, nIterations):\n",
        "        \"\"\" Train the thing \"\"\"\n",
        "        # Add the inputs that match the bias node\n",
        "        inputs = np.concatenate((inputs, -np.ones((self.nData, 1))), axis=1)\n",
        "        # Training\n",
        "        change = range(self.nData)\n",
        "\n",
        "        for n in range(nIterations):\n",
        "            self.activations = self.pcnfwd(inputs)\n",
        "            self.weights -= eta * np.dot(np.transpose(inputs), self.activations - targets)\n",
        "\n",
        "    def pcnfwd(self, inputs):\n",
        "        \"\"\" Run the network forward \"\"\"\n",
        "        # Compute activations\n",
        "        activations = np.dot(inputs, self.weights)\n",
        "\n",
        "        # Threshold the activations\n",
        "        return np.where(activations > 0, 1, 0)\n",
        "\n",
        "    def confmat(self, inputs, targets):\n",
        "        \"\"\" Confusion matrix \"\"\"\n",
        "\n",
        "        # Add the inputs that match the bias node\n",
        "        inputs = np.concatenate((inputs, -np.ones((self.nData, 1))), axis=1)\n",
        "\n",
        "        outputs = np.dot(inputs, self.weights)\n",
        "\n",
        "        nClasses = np.shape(targets)[1]\n",
        "\n",
        "        if nClasses == 1:\n",
        "            nClasses = 2\n",
        "            outputs = np.where(outputs > 0, 1, 0)\n",
        "        else:\n",
        "            # 1-of-N encoding\n",
        "            outputs = np.argmax(outputs, 1)\n",
        "            targets = np.argmax(targets, 1)\n",
        "\n",
        "        cm = np.zeros((nClasses, nClasses))\n",
        "        for i in range(nClasses):\n",
        "            for j in range(nClasses):\n",
        "                cm[i, j] = np.sum(np.where(outputs == i, 1, 0) * np.where(targets == j, 1, 0))\n",
        "\n",
        "        print(cm)\n",
        "        print(np.trace(cm) / np.sum(cm))\n",
        "\n",
        "def logic():\n",
        "    \"\"\" Run AND and XOR logic functions \"\"\"\n",
        "\n",
        "    a = np.array([[0, 0, 0], [0, 1, 0], [1, 0, 0], [1, 1, 1]])\n",
        "    b = np.array([[0, 0, 0], [0, 1, 1], [1, 0, 1], [1, 1, 0]])\n",
        "\n",
        "    p = pcn(a[:, 0:2], a[:, 2:])\n",
        "    p.pcntrain(a[:, 0:2], a[:, 2:], 0.25, 10)\n",
        "    p.confmat(a[:, 0:2], a[:, 2:])\n",
        "\n",
        "    q = pcn(b[:, 0:2], b[:, 2:])\n",
        "    q.pcntrain(b[:, 0:2], b[:, 2:], 0.25, 10)\n",
        "    q.confmat(b[:, 0:2], b[:, 2:])\n",
        "\n",
        "# Call the logic function to run AND and XOR logic\n",
        "logic()\n"
      ],
      "metadata": {
        "colab": {
          "base_uri": "https://localhost:8080/"
        },
        "id": "pz7fR0k7lyV1",
        "outputId": "e7342cf1-512b-4c95-88b9-b9722466f764"
      },
      "execution_count": 11,
      "outputs": [
        {
          "output_type": "stream",
          "name": "stdout",
          "text": [
            "[[3. 0.]\n",
            " [0. 1.]]\n",
            "1.0\n",
            "[[2. 2.]\n",
            " [0. 0.]]\n",
            "0.5\n"
          ]
        }
      ]
    }
  ]
}